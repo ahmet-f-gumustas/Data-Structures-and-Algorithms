{
 "cells": [
  {
   "cell_type": "code",
   "execution_count": 12,
   "metadata": {},
   "outputs": [],
   "source": [
    "myInput = [\"2\", \"5\", \"C\", \"D\", \"+\"]"
   ]
  },
  {
   "cell_type": "code",
   "execution_count": 13,
   "metadata": {},
   "outputs": [],
   "source": [
    "def solution():\n",
    "\n",
    "    myStack = []\n",
    "\n",
    "    for op in myInput:\n",
    "        if op == \"C\":\n",
    "            myStack.pop()\n",
    "        elif op == \"+\":\n",
    "            myStack.append(myStack[-1] + myStack[-2])\n",
    "        elif op == \"D\":\n",
    "            myStack.append(2 * myStack[-1])\n",
    "        else:\n",
    "            myStack.append(int(op))\n",
    "    return sum(myStack)"
   ]
  },
  {
   "cell_type": "code",
   "execution_count": 14,
   "metadata": {},
   "outputs": [
    {
     "data": {
      "text/plain": [
       "12"
      ]
     },
     "execution_count": 14,
     "metadata": {},
     "output_type": "execute_result"
    }
   ],
   "source": [
    "solution()"
   ]
  },
  {
   "cell_type": "code",
   "execution_count": 17,
   "metadata": {},
   "outputs": [],
   "source": [
    "def twoSum(nums:list[int], target:int):\n",
    "    for i in nums:\n",
    "        i += target\n",
    "        print(i)\n",
    "    return i\n",
    "    "
   ]
  },
  {
   "cell_type": "code",
   "execution_count": 18,
   "metadata": {},
   "outputs": [
    {
     "name": "stdout",
     "output_type": "stream",
     "text": [
      "6\n",
      "7\n",
      "8\n",
      "11\n",
      "12\n"
     ]
    },
    {
     "data": {
      "text/plain": [
       "12"
      ]
     },
     "execution_count": 18,
     "metadata": {},
     "output_type": "execute_result"
    }
   ],
   "source": [
    "twoSum([1,2,3,6,7], 5)"
   ]
  },
  {
   "cell_type": "code",
   "execution_count": 19,
   "metadata": {},
   "outputs": [],
   "source": [
    "# daily Temperatures "
   ]
  },
  {
   "cell_type": "code",
   "execution_count": 27,
   "metadata": {},
   "outputs": [],
   "source": [
    "temperatures = [73, 74, 75, 71, 69, 72, 76, 73]"
   ]
  },
  {
   "cell_type": "code",
   "execution_count": 32,
   "metadata": {},
   "outputs": [],
   "source": [
    "temperatures = [73, 74, 75, 71, 69, 72, 76, 73]\n",
    "def solution():\n",
    "    result = [0] * len(temperatures)\n",
    "    myStack = []\n",
    "\n",
    "    for ix, temperatures in enumerate(temperatures):\n",
    "        myStack.append([temperatures, ix])\n",
    "\n"
   ]
  },
  {
   "cell_type": "code",
   "execution_count": 33,
   "metadata": {},
   "outputs": [
    {
     "ename": "UnboundLocalError",
     "evalue": "local variable 'temperatures' referenced before assignment",
     "output_type": "error",
     "traceback": [
      "\u001b[0;31m---------------------------------------------------------------------------\u001b[0m",
      "\u001b[0;31mUnboundLocalError\u001b[0m                         Traceback (most recent call last)",
      "\u001b[1;32m/home/moveon2/Desktop/Desktop1/Python-project/Data-Structures-and-Algorithms/3-Stack-Queue-Deque/examples.ipynb Cell 9\u001b[0m in \u001b[0;36m1\n\u001b[0;32m----> <a href='vscode-notebook-cell:/home/moveon2/Desktop/Desktop1/Python-project/Data-Structures-and-Algorithms/3-Stack-Queue-Deque/examples.ipynb#X11sZmlsZQ%3D%3D?line=0'>1</a>\u001b[0m solution()\n",
      "\u001b[1;32m/home/moveon2/Desktop/Desktop1/Python-project/Data-Structures-and-Algorithms/3-Stack-Queue-Deque/examples.ipynb Cell 9\u001b[0m in \u001b[0;36m6\n\u001b[1;32m      <a href='vscode-notebook-cell:/home/moveon2/Desktop/Desktop1/Python-project/Data-Structures-and-Algorithms/3-Stack-Queue-Deque/examples.ipynb#X11sZmlsZQ%3D%3D?line=1'>2</a>\u001b[0m \u001b[39mdef\u001b[39;00m \u001b[39msolution\u001b[39m():\n\u001b[1;32m      <a href='vscode-notebook-cell:/home/moveon2/Desktop/Desktop1/Python-project/Data-Structures-and-Algorithms/3-Stack-Queue-Deque/examples.ipynb#X11sZmlsZQ%3D%3D?line=2'>3</a>\u001b[0m     \u001b[39m# result = [0] * len(temperatures)\u001b[39;00m\n\u001b[1;32m      <a href='vscode-notebook-cell:/home/moveon2/Desktop/Desktop1/Python-project/Data-Structures-and-Algorithms/3-Stack-Queue-Deque/examples.ipynb#X11sZmlsZQ%3D%3D?line=3'>4</a>\u001b[0m     myStack \u001b[39m=\u001b[39m []\n\u001b[0;32m----> <a href='vscode-notebook-cell:/home/moveon2/Desktop/Desktop1/Python-project/Data-Structures-and-Algorithms/3-Stack-Queue-Deque/examples.ipynb#X11sZmlsZQ%3D%3D?line=5'>6</a>\u001b[0m     \u001b[39mfor\u001b[39;00m ix, temperatures \u001b[39min\u001b[39;00m \u001b[39menumerate\u001b[39m(temperatures):\n\u001b[1;32m      <a href='vscode-notebook-cell:/home/moveon2/Desktop/Desktop1/Python-project/Data-Structures-and-Algorithms/3-Stack-Queue-Deque/examples.ipynb#X11sZmlsZQ%3D%3D?line=6'>7</a>\u001b[0m         myStack\u001b[39m.\u001b[39mappend([temperatures, ix])\n",
      "\u001b[0;31mUnboundLocalError\u001b[0m: local variable 'temperatures' referenced before assignment"
     ]
    }
   ],
   "source": [
    "solution()"
   ]
  },
  {
   "cell_type": "code",
   "execution_count": 48,
   "metadata": {},
   "outputs": [],
   "source": [
    "def isPalindrome(self, x: int) -> bool:\n",
    "    return True if str(x)==str(x)[::-1] else False"
   ]
  },
  {
   "cell_type": "code",
   "execution_count": 49,
   "metadata": {},
   "outputs": [
    {
     "name": "stdout",
     "output_type": "stream",
     "text": [
      "121\n"
     ]
    }
   ],
   "source": [
    "isPalindrome(121)"
   ]
  },
  {
   "cell_type": "code",
   "execution_count": 71,
   "metadata": {},
   "outputs": [],
   "source": [
    "def romanToInt(s: str) -> int:\n",
    "    roman={\"I\":1,\"V\":5,\"X\":10,\"L\":50,\"C\":100,\"D\":500,\"M\":1000}\n",
    "    number = 0\n",
    "\n",
    "    for i in range(len(s)-1):\n",
    "        if roman[s[i]] < roman[s[(i+1)]]:\n",
    "            number -= roman[s[i]]\n",
    "        else:\n",
    "            number += roman[s[i]]\n",
    "    return number+roman[s[-1]]"
   ]
  },
  {
   "cell_type": "code",
   "execution_count": 73,
   "metadata": {},
   "outputs": [
    {
     "data": {
      "text/plain": [
       "8"
      ]
     },
     "execution_count": 73,
     "metadata": {},
     "output_type": "execute_result"
    }
   ],
   "source": [
    "romanToInt('VIII')"
   ]
  },
  {
   "cell_type": "code",
   "execution_count": 76,
   "metadata": {},
   "outputs": [
    {
     "data": {
      "text/plain": [
       "3"
      ]
     },
     "execution_count": 76,
     "metadata": {},
     "output_type": "execute_result"
    }
   ],
   "source": [
    "s = \"III\"\n",
    "roman_to_integer = {\n",
    "    'I': 1,\n",
    "    'V': 5,\n",
    "    'X': 10,\n",
    "    'L': 50,\n",
    "    'C': 100,\n",
    "    'D': 500,\n",
    "    'M': 1000,\n",
    "}\n",
    "sum(map(lambda x: roman_to_integer[x], s))"
   ]
  },
  {
   "cell_type": "code",
   "execution_count": 77,
   "metadata": {},
   "outputs": [
    {
     "data": {
      "text/plain": [
       "(<function __main__.<lambda>(x)>, 'III')"
      ]
     },
     "execution_count": 77,
     "metadata": {},
     "output_type": "execute_result"
    }
   ],
   "source": [
    "s = \"III\"\n",
    "roman_to_integer = {\n",
    "    'I': 1,\n",
    "    'V': 5,\n",
    "    'X': 10,\n",
    "    'L': 50,\n",
    "    'C': 100,\n",
    "    'D': 500,\n",
    "    'M': 1000,\n",
    "}\n",
    "lambda x: roman_to_integer[x], s"
   ]
  },
  {
   "cell_type": "code",
   "execution_count": null,
   "metadata": {},
   "outputs": [],
   "source": [
    "map()"
   ]
  }
 ],
 "metadata": {
  "kernelspec": {
   "display_name": "Python 3",
   "language": "python",
   "name": "python3"
  },
  "language_info": {
   "codemirror_mode": {
    "name": "ipython",
    "version": 3
   },
   "file_extension": ".py",
   "mimetype": "text/x-python",
   "name": "python",
   "nbconvert_exporter": "python",
   "pygments_lexer": "ipython3",
   "version": "3.10.6"
  },
  "orig_nbformat": 4
 },
 "nbformat": 4,
 "nbformat_minor": 2
}
