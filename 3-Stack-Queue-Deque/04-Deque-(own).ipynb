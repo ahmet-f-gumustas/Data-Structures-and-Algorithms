{
 "cells": [
  {
   "cell_type": "code",
   "execution_count": 1,
   "id": "1de23e9d",
   "metadata": {},
   "outputs": [
    {
     "data": {
      "text/plain": [
       "'\\nDeque()\\n\\naddRight()\\naddLeft()\\n\\nremoveRight()\\nremoveLeft()\\n\\nisEmpty()\\nsize()\\n\\n'"
      ]
     },
     "execution_count": 1,
     "metadata": {},
     "output_type": "execute_result"
    }
   ],
   "source": [
    "'''\n",
    "Deque()\n",
    "\n",
    "addRight()\n",
    "addLeft()\n",
    "\n",
    "removeRight()\n",
    "removeLeft()\n",
    "\n",
    "isEmpty()\n",
    "size()\n",
    "\n",
    "'''"
   ]
  },
  {
   "cell_type": "code",
   "execution_count": 8,
   "id": "f388972e",
   "metadata": {},
   "outputs": [],
   "source": [
    "class Deque():\n",
    "    \n",
    "    def __init__(self):\n",
    "        self.elements = []\n",
    "        \n",
    "    def isEmpty(self):\n",
    "        return self.elements == []\n",
    "    \n",
    "    def add(self, element):\n",
    "        return self.elements.append(element)\n",
    "    \n",
    "    def size(self):\n",
    "        return len(self.elements)\n",
    "    \n",
    "    def addRight(self, element):\n",
    "        return self.elements.append(element)\n",
    "    \n",
    "    def addLeft(self, element):\n",
    "        return self.elements.insert(0, element)\n",
    "    \n",
    "    def removeRight(self):\n",
    "        return self.elements.pop()\n",
    "    \n",
    "    def removeLeft(self):\n",
    "        return self.elements.pop(0)\n",
    "    \n",
    "    def show(self):\n",
    "        return print(self.elements)"
   ]
  },
  {
   "cell_type": "code",
   "execution_count": 9,
   "id": "4d4cf034",
   "metadata": {},
   "outputs": [],
   "source": [
    "myDeque = Deque()"
   ]
  },
  {
   "cell_type": "code",
   "execution_count": 10,
   "id": "7b6d93e9",
   "metadata": {},
   "outputs": [],
   "source": [
    "myDeque.add(10)"
   ]
  },
  {
   "cell_type": "code",
   "execution_count": 11,
   "id": "b842821a",
   "metadata": {},
   "outputs": [
    {
     "name": "stdout",
     "output_type": "stream",
     "text": [
      "[10]\n"
     ]
    }
   ],
   "source": [
    "myDeque.show()"
   ]
  },
  {
   "cell_type": "code",
   "execution_count": 13,
   "id": "be01a6ea",
   "metadata": {},
   "outputs": [],
   "source": [
    "myDeque.add(20)"
   ]
  },
  {
   "cell_type": "code",
   "execution_count": 14,
   "id": "cbb628ec",
   "metadata": {},
   "outputs": [],
   "source": [
    "myDeque.add(30)"
   ]
  },
  {
   "cell_type": "code",
   "execution_count": 15,
   "id": "152189e1",
   "metadata": {},
   "outputs": [
    {
     "name": "stdout",
     "output_type": "stream",
     "text": [
      "[10, 10, 20, 30]\n"
     ]
    }
   ],
   "source": [
    "myDeque.show()"
   ]
  },
  {
   "cell_type": "code",
   "execution_count": 16,
   "id": "6daaebd3",
   "metadata": {},
   "outputs": [],
   "source": [
    "myDeque.addRight(40)"
   ]
  },
  {
   "cell_type": "code",
   "execution_count": 17,
   "id": "ddcb1c14",
   "metadata": {},
   "outputs": [
    {
     "name": "stdout",
     "output_type": "stream",
     "text": [
      "[10, 10, 20, 30, 40]\n"
     ]
    }
   ],
   "source": [
    "myDeque.show()"
   ]
  },
  {
   "cell_type": "code",
   "execution_count": 18,
   "id": "a08e681f",
   "metadata": {},
   "outputs": [],
   "source": [
    "myDeque.addLeft(5)"
   ]
  },
  {
   "cell_type": "code",
   "execution_count": 19,
   "id": "9d3876e0",
   "metadata": {},
   "outputs": [
    {
     "name": "stdout",
     "output_type": "stream",
     "text": [
      "[5, 10, 10, 20, 30, 40]\n"
     ]
    }
   ],
   "source": [
    "myDeque.show()"
   ]
  },
  {
   "cell_type": "code",
   "execution_count": 20,
   "id": "382551ad",
   "metadata": {},
   "outputs": [
    {
     "data": {
      "text/plain": [
       "5"
      ]
     },
     "execution_count": 20,
     "metadata": {},
     "output_type": "execute_result"
    }
   ],
   "source": [
    "myDeque.removeLeft()"
   ]
  },
  {
   "cell_type": "code",
   "execution_count": 21,
   "id": "67a66644",
   "metadata": {},
   "outputs": [
    {
     "data": {
      "text/plain": [
       "40"
      ]
     },
     "execution_count": 21,
     "metadata": {},
     "output_type": "execute_result"
    }
   ],
   "source": [
    "myDeque.removeRight()"
   ]
  },
  {
   "cell_type": "code",
   "execution_count": 23,
   "id": "f56235a3",
   "metadata": {},
   "outputs": [
    {
     "name": "stdout",
     "output_type": "stream",
     "text": [
      "[10, 10, 20, 30]\n"
     ]
    }
   ],
   "source": [
    "myDeque.show()"
   ]
  },
  {
   "cell_type": "code",
   "execution_count": null,
   "id": "f487afb9",
   "metadata": {},
   "outputs": [],
   "source": []
  }
 ],
 "metadata": {
  "kernelspec": {
   "display_name": "Python 3 (ipykernel)",
   "language": "python",
   "name": "python3"
  },
  "language_info": {
   "codemirror_mode": {
    "name": "ipython",
    "version": 3
   },
   "file_extension": ".py",
   "mimetype": "text/x-python",
   "name": "python",
   "nbconvert_exporter": "python",
   "pygments_lexer": "ipython3",
   "version": "3.9.12"
  }
 },
 "nbformat": 4,
 "nbformat_minor": 5
}
