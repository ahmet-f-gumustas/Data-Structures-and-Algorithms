{
 "cells": [
  {
   "cell_type": "code",
   "execution_count": 1,
   "id": "58e27ec9",
   "metadata": {},
   "outputs": [],
   "source": [
    "#Node -> Linked List"
   ]
  },
  {
   "cell_type": "code",
   "execution_count": 2,
   "id": "e2089c90",
   "metadata": {},
   "outputs": [],
   "source": [
    "# Singly Linked List"
   ]
  },
  {
   "cell_type": "code",
   "execution_count": 4,
   "id": "c08407b9",
   "metadata": {},
   "outputs": [],
   "source": [
    "class Node():\n",
    "    \n",
    "    def __init__(self, value):\n",
    "        \n",
    "        self.value = value\n",
    "        self.nextNode =None"
   ]
  },
  {
   "cell_type": "code",
   "execution_count": 8,
   "id": "e987ab3d",
   "metadata": {},
   "outputs": [],
   "source": [
    "firstNode = Node(10)"
   ]
  },
  {
   "cell_type": "code",
   "execution_count": 9,
   "id": "95b77388",
   "metadata": {},
   "outputs": [],
   "source": [
    "secondNode = Node(20)"
   ]
  },
  {
   "cell_type": "code",
   "execution_count": 10,
   "id": "4aced669",
   "metadata": {},
   "outputs": [],
   "source": [
    "thirdNode = Node(30)"
   ]
  },
  {
   "cell_type": "code",
   "execution_count": 11,
   "id": "801f8273",
   "metadata": {},
   "outputs": [],
   "source": [
    "firstNode.nextNode = secondNode"
   ]
  },
  {
   "cell_type": "code",
   "execution_count": 12,
   "id": "f0075659",
   "metadata": {},
   "outputs": [],
   "source": [
    "secondNode.nextNode = thirdNode"
   ]
  },
  {
   "cell_type": "code",
   "execution_count": 13,
   "id": "041facbe",
   "metadata": {},
   "outputs": [
    {
     "data": {
      "text/plain": [
       "<__main__.Node at 0x7f9fed4f8220>"
      ]
     },
     "execution_count": 13,
     "metadata": {},
     "output_type": "execute_result"
    }
   ],
   "source": [
    "firstNode.nextNode"
   ]
  },
  {
   "cell_type": "code",
   "execution_count": 14,
   "id": "2bd67b09",
   "metadata": {},
   "outputs": [
    {
     "data": {
      "text/plain": [
       "20"
      ]
     },
     "execution_count": 14,
     "metadata": {},
     "output_type": "execute_result"
    }
   ],
   "source": [
    "firstNode.nextNode.value"
   ]
  },
  {
   "cell_type": "code",
   "execution_count": 17,
   "id": "b5635663",
   "metadata": {},
   "outputs": [
    {
     "data": {
      "text/plain": [
       "30"
      ]
     },
     "execution_count": 17,
     "metadata": {},
     "output_type": "execute_result"
    }
   ],
   "source": [
    "firstNode.nextNode.nextNode.value"
   ]
  },
  {
   "cell_type": "code",
   "execution_count": null,
   "id": "2020aaf4",
   "metadata": {},
   "outputs": [],
   "source": []
  },
  {
   "cell_type": "code",
   "execution_count": 16,
   "id": "0658f119",
   "metadata": {},
   "outputs": [],
   "source": [
    "# Doubley Linked List"
   ]
  },
  {
   "cell_type": "code",
   "execution_count": 18,
   "id": "1088a432",
   "metadata": {},
   "outputs": [],
   "source": [
    "class DoublyNode():\n",
    "    def __init__(self, value):\n",
    "        self.value = value\n",
    "        self.nextNode = None\n",
    "        self.prevNode = None"
   ]
  },
  {
   "cell_type": "code",
   "execution_count": 19,
   "id": "2fb2f810",
   "metadata": {},
   "outputs": [],
   "source": [
    "x = DoublyNode(5)\n",
    "y = DoublyNode(10)\n",
    "z = DoublyNode(15)"
   ]
  },
  {
   "cell_type": "code",
   "execution_count": 20,
   "id": "e64de986",
   "metadata": {},
   "outputs": [],
   "source": [
    "x.nextNode = y\n",
    "y.prevNode = x"
   ]
  },
  {
   "cell_type": "code",
   "execution_count": 21,
   "id": "d00afbbd",
   "metadata": {},
   "outputs": [],
   "source": [
    "y.nextNode = z\n",
    "z.prevNode = y"
   ]
  },
  {
   "cell_type": "code",
   "execution_count": 22,
   "id": "d331ed77",
   "metadata": {},
   "outputs": [
    {
     "data": {
      "text/plain": [
       "15"
      ]
     },
     "execution_count": 22,
     "metadata": {},
     "output_type": "execute_result"
    }
   ],
   "source": [
    "x.nextNode.nextNode.value"
   ]
  },
  {
   "cell_type": "code",
   "execution_count": 23,
   "id": "4fee9596",
   "metadata": {},
   "outputs": [
    {
     "data": {
      "text/plain": [
       "5"
      ]
     },
     "execution_count": 23,
     "metadata": {},
     "output_type": "execute_result"
    }
   ],
   "source": [
    "z.prevNode.prevNode.value"
   ]
  },
  {
   "cell_type": "code",
   "execution_count": 24,
   "id": "4ba36dd2",
   "metadata": {},
   "outputs": [
    {
     "ename": "NameError",
     "evalue": "name 'Optional' is not defined",
     "output_type": "error",
     "traceback": [
      "\u001b[0;31m---------------------------------------------------------------------------\u001b[0m",
      "\u001b[0;31mNameError\u001b[0m                                 Traceback (most recent call last)",
      "Input \u001b[0;32mIn [24]\u001b[0m, in \u001b[0;36m<cell line: 6>\u001b[0;34m()\u001b[0m\n\u001b[1;32m      1\u001b[0m \u001b[38;5;66;03m# Definition for singly-linked list.\u001b[39;00m\n\u001b[1;32m      2\u001b[0m \u001b[38;5;66;03m# class ListNode:\u001b[39;00m\n\u001b[1;32m      3\u001b[0m \u001b[38;5;66;03m#     def __init__(self, val=0, next=None):\u001b[39;00m\n\u001b[1;32m      4\u001b[0m \u001b[38;5;66;03m#         self.val = val\u001b[39;00m\n\u001b[1;32m      5\u001b[0m \u001b[38;5;66;03m#         self.next = next\u001b[39;00m\n\u001b[0;32m----> 6\u001b[0m \u001b[38;5;28;01mclass\u001b[39;00m \u001b[38;5;21;01mSolution\u001b[39;00m:\n\u001b[1;32m      7\u001b[0m     \u001b[38;5;28;01mdef\u001b[39;00m \u001b[38;5;21mremoveNthFromEnd\u001b[39m(\u001b[38;5;28mself\u001b[39m, head: Optional[ListNode], n: \u001b[38;5;28mint\u001b[39m) \u001b[38;5;241m-\u001b[39m\u001b[38;5;241m>\u001b[39m Optional[ListNode]:\n\u001b[1;32m      8\u001b[0m         leftPointer \u001b[38;5;241m=\u001b[39m head\n",
      "Input \u001b[0;32mIn [24]\u001b[0m, in \u001b[0;36mSolution\u001b[0;34m()\u001b[0m\n\u001b[1;32m      6\u001b[0m \u001b[38;5;28;01mclass\u001b[39;00m \u001b[38;5;21;01mSolution\u001b[39;00m:\n\u001b[0;32m----> 7\u001b[0m     \u001b[38;5;28;01mdef\u001b[39;00m \u001b[38;5;21mremoveNthFromEnd\u001b[39m(\u001b[38;5;28mself\u001b[39m, head: \u001b[43mOptional\u001b[49m[ListNode], n: \u001b[38;5;28mint\u001b[39m) \u001b[38;5;241m-\u001b[39m\u001b[38;5;241m>\u001b[39m Optional[ListNode]:\n\u001b[1;32m      8\u001b[0m         leftPointer \u001b[38;5;241m=\u001b[39m head\n\u001b[1;32m      9\u001b[0m         rightPointer \u001b[38;5;241m=\u001b[39m head\n",
      "\u001b[0;31mNameError\u001b[0m: name 'Optional' is not defined"
     ]
    }
   ],
   "source": [
    "# Definition for singly-linked list.\n",
    "# class ListNode:\n",
    "#     def __init__(self, val=0, next=None):\n",
    "#         self.val = val\n",
    "#         self.next = next\n",
    "class Solution:\n",
    "    def removeNthFromEnd(self, head: Optional[ListNode], n: int) -> Optional[ListNode]:\n",
    "        leftPointer = head\n",
    "        rightPointer = head\n",
    "        \n",
    "        while n > 0 and rightPointer:\n",
    "            rightPointer = rightPointer.next\n",
    "            n -= 1\n",
    "            \n",
    "        while rightPointer and rightPointer.next:\n",
    "            leftPointer = leftPointer.next\n",
    "            rightPointer = rightPointer.next\n",
    "        \n",
    "        if leftPointer == head and not rightPointer:\n",
    "            return head.next\n",
    "        \n",
    "        \n",
    "        leftPointer.next = leftPointer.next.next\n",
    "        \n",
    "        return head"
   ]
  },
  {
   "cell_type": "code",
   "execution_count": null,
   "id": "ea9ec548",
   "metadata": {},
   "outputs": [],
   "source": []
  }
 ],
 "metadata": {
  "kernelspec": {
   "display_name": "Python 3 (ipykernel)",
   "language": "python",
   "name": "python3"
  },
  "language_info": {
   "codemirror_mode": {
    "name": "ipython",
    "version": 3
   },
   "file_extension": ".py",
   "mimetype": "text/x-python",
   "name": "python",
   "nbconvert_exporter": "python",
   "pygments_lexer": "ipython3",
   "version": "3.9.12"
  }
 },
 "nbformat": 4,
 "nbformat_minor": 5
}
