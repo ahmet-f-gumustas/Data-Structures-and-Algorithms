{
 "cells": [
  {
   "cell_type": "code",
   "execution_count": 15,
   "id": "21afc17f",
   "metadata": {},
   "outputs": [],
   "source": [
    "myList = [1, 2, 3, 11, 11, 3, 3, 2]"
   ]
  },
  {
   "cell_type": "code",
   "execution_count": 16,
   "id": "5f29102d",
   "metadata": {},
   "outputs": [],
   "source": [
    "def findMajority():\n",
    "    numbers = {}\n",
    "    result = 0\n",
    "    maxNumber = 0\n",
    "    \n",
    "    for num in myList:\n",
    "        numbers[num] = 1 + numbers.get(num, 0)\n",
    "        if numbers[num] > maxNumber:\n",
    "            result = num\n",
    "        maxNumber = max(maxNumber, numbers[num])\n",
    "    return result"
   ]
  },
  {
   "cell_type": "code",
   "execution_count": 17,
   "id": "582fb5ac",
   "metadata": {},
   "outputs": [
    {
     "data": {
      "text/plain": [
       "3"
      ]
     },
     "execution_count": 17,
     "metadata": {},
     "output_type": "execute_result"
    }
   ],
   "source": [
    "findMajority()"
   ]
  },
  {
   "cell_type": "code",
   "execution_count": null,
   "id": "b2c2d0ee",
   "metadata": {},
   "outputs": [],
   "source": []
  },
  {
   "cell_type": "code",
   "execution_count": 18,
   "id": "22542cf0",
   "metadata": {},
   "outputs": [],
   "source": [
    "# Boyer Moore Algorithm"
   ]
  },
  {
   "cell_type": "code",
   "execution_count": 19,
   "id": "05be2ab7",
   "metadata": {},
   "outputs": [],
   "source": [
    "def boyerMoore():\n",
    "    result = 0\n",
    "    count = 0\n",
    "    \n",
    "    for num in myList:\n",
    "        if count == 0:\n",
    "            result = num\n",
    "        if num == result:\n",
    "            count += 1\n",
    "        else:\n",
    "            count -= 1\n",
    "            \n",
    "    return result"
   ]
  },
  {
   "cell_type": "code",
   "execution_count": 20,
   "id": "fde0f5a1",
   "metadata": {},
   "outputs": [
    {
     "data": {
      "text/plain": [
       "3"
      ]
     },
     "execution_count": 20,
     "metadata": {},
     "output_type": "execute_result"
    }
   ],
   "source": [
    "boyerMoore()"
   ]
  },
  {
   "cell_type": "code",
   "execution_count": 21,
   "id": "69174881",
   "metadata": {},
   "outputs": [],
   "source": [
    "def boyerMoore_1():\n",
    "    result = 0\n",
    "    count = 0\n",
    "    \n",
    "    for num in myList:\n",
    "        if count == 0:\n",
    "            result = num\n",
    "        count += 1 if num == result else -1\n",
    "            \n",
    "    return result"
   ]
  },
  {
   "cell_type": "code",
   "execution_count": 22,
   "id": "d8ecc357",
   "metadata": {},
   "outputs": [
    {
     "data": {
      "text/plain": [
       "3"
      ]
     },
     "execution_count": 22,
     "metadata": {},
     "output_type": "execute_result"
    }
   ],
   "source": [
    "boyerMoore_1()"
   ]
  },
  {
   "cell_type": "code",
   "execution_count": null,
   "id": "15a64003",
   "metadata": {},
   "outputs": [],
   "source": []
  },
  {
   "cell_type": "code",
   "execution_count": null,
   "id": "0f051324",
   "metadata": {},
   "outputs": [],
   "source": []
  },
  {
   "cell_type": "code",
   "execution_count": null,
   "id": "1629df64",
   "metadata": {},
   "outputs": [],
   "source": []
  }
 ],
 "metadata": {
  "kernelspec": {
   "display_name": "Python 3 (ipykernel)",
   "language": "python",
   "name": "python3"
  },
  "language_info": {
   "codemirror_mode": {
    "name": "ipython",
    "version": 3
   },
   "file_extension": ".py",
   "mimetype": "text/x-python",
   "name": "python",
   "nbconvert_exporter": "python",
   "pygments_lexer": "ipython3",
   "version": "3.10.6"
  }
 },
 "nbformat": 4,
 "nbformat_minor": 5
}
