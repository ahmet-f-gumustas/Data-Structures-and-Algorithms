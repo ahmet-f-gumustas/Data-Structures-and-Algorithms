{
 "cells": [
  {
   "cell_type": "code",
   "execution_count": 1,
   "id": "de7fba4b",
   "metadata": {},
   "outputs": [],
   "source": [
    "# Array, List, Stack, Queue, Deque"
   ]
  },
  {
   "cell_type": "code",
   "execution_count": 2,
   "id": "002a264f",
   "metadata": {},
   "outputs": [],
   "source": [
    "# List\n",
    "myList = [1, 2, 3, 4, 5]"
   ]
  },
  {
   "cell_type": "code",
   "execution_count": 3,
   "id": "d4e239f1",
   "metadata": {},
   "outputs": [],
   "source": [
    "myList.remove(1)"
   ]
  },
  {
   "cell_type": "code",
   "execution_count": 4,
   "id": "6b4a71cd",
   "metadata": {},
   "outputs": [
    {
     "data": {
      "text/plain": [
       "[2, 3, 4, 5]"
      ]
     },
     "execution_count": 4,
     "metadata": {},
     "output_type": "execute_result"
    }
   ],
   "source": [
    "myList"
   ]
  },
  {
   "cell_type": "code",
   "execution_count": 5,
   "id": "fe06fcb2",
   "metadata": {},
   "outputs": [
    {
     "data": {
      "text/plain": [
       "list"
      ]
     },
     "execution_count": 5,
     "metadata": {},
     "output_type": "execute_result"
    }
   ],
   "source": [
    "type(myList)"
   ]
  },
  {
   "cell_type": "code",
   "execution_count": 6,
   "id": "dddb0aae",
   "metadata": {},
   "outputs": [
    {
     "name": "stdout",
     "output_type": "stream",
     "text": [
      "<class 'list'>\n"
     ]
    }
   ],
   "source": [
    "print(type(myList))"
   ]
  },
  {
   "cell_type": "code",
   "execution_count": 7,
   "id": "42693767",
   "metadata": {},
   "outputs": [],
   "source": [
    "import array as arr"
   ]
  },
  {
   "cell_type": "code",
   "execution_count": 10,
   "id": "429eecdf",
   "metadata": {},
   "outputs": [],
   "source": [
    "myArray = arr.array(\"i\", [3, 6, 1, 12])"
   ]
  },
  {
   "cell_type": "code",
   "execution_count": 11,
   "id": "dc3b0970",
   "metadata": {},
   "outputs": [
    {
     "name": "stdout",
     "output_type": "stream",
     "text": [
      "array('i', [3, 6, 1, 12])\n"
     ]
    }
   ],
   "source": [
    "print(myArray)"
   ]
  },
  {
   "cell_type": "code",
   "execution_count": 12,
   "id": "44380a98",
   "metadata": {},
   "outputs": [
    {
     "data": {
      "text/plain": [
       "array.array"
      ]
     },
     "execution_count": 12,
     "metadata": {},
     "output_type": "execute_result"
    }
   ],
   "source": [
    "type(myArray)"
   ]
  },
  {
   "cell_type": "code",
   "execution_count": 13,
   "id": "e6099a82",
   "metadata": {},
   "outputs": [],
   "source": [
    "myArray.append(17)"
   ]
  },
  {
   "cell_type": "code",
   "execution_count": 14,
   "id": "dd183437",
   "metadata": {},
   "outputs": [
    {
     "data": {
      "text/plain": [
       "array('i', [3, 6, 1, 12, 17])"
      ]
     },
     "execution_count": 14,
     "metadata": {},
     "output_type": "execute_result"
    }
   ],
   "source": [
    "myArray"
   ]
  },
  {
   "cell_type": "code",
   "execution_count": 15,
   "id": "27e28569",
   "metadata": {},
   "outputs": [],
   "source": [
    "myList = [1, 2, 3, 4, 5]"
   ]
  },
  {
   "cell_type": "code",
   "execution_count": 16,
   "id": "342d9eda",
   "metadata": {},
   "outputs": [],
   "source": [
    "otherList = [6, 7, 8]"
   ]
  },
  {
   "cell_type": "code",
   "execution_count": 17,
   "id": "c05c7758",
   "metadata": {},
   "outputs": [],
   "source": [
    "myList.extend(otherList)"
   ]
  },
  {
   "cell_type": "code",
   "execution_count": 18,
   "id": "e9fa9f06",
   "metadata": {},
   "outputs": [
    {
     "data": {
      "text/plain": [
       "[1, 2, 3, 4, 5, 6, 7, 8]"
      ]
     },
     "execution_count": 18,
     "metadata": {},
     "output_type": "execute_result"
    }
   ],
   "source": [
    "myList"
   ]
  },
  {
   "cell_type": "code",
   "execution_count": 19,
   "id": "f7901f52",
   "metadata": {},
   "outputs": [],
   "source": [
    "result = [0] * 8"
   ]
  },
  {
   "cell_type": "code",
   "execution_count": 20,
   "id": "3595f9e6",
   "metadata": {},
   "outputs": [
    {
     "data": {
      "text/plain": [
       "[0, 0, 0, 0, 0, 0, 0, 0]"
      ]
     },
     "execution_count": 20,
     "metadata": {},
     "output_type": "execute_result"
    }
   ],
   "source": [
    "result"
   ]
  },
  {
   "cell_type": "code",
   "execution_count": 21,
   "id": "21716057",
   "metadata": {},
   "outputs": [
    {
     "data": {
      "text/plain": [
       "list"
      ]
     },
     "execution_count": 21,
     "metadata": {},
     "output_type": "execute_result"
    }
   ],
   "source": [
    "type(result)"
   ]
  },
  {
   "cell_type": "code",
   "execution_count": 22,
   "id": "b7afc84e",
   "metadata": {},
   "outputs": [],
   "source": [
    "result[3] = 2"
   ]
  },
  {
   "cell_type": "code",
   "execution_count": 23,
   "id": "ec846930",
   "metadata": {},
   "outputs": [
    {
     "data": {
      "text/plain": [
       "[0, 0, 0, 2, 0, 0, 0, 0]"
      ]
     },
     "execution_count": 23,
     "metadata": {},
     "output_type": "execute_result"
    }
   ],
   "source": [
    "result"
   ]
  },
  {
   "cell_type": "code",
   "execution_count": 24,
   "id": "26c07ccc",
   "metadata": {},
   "outputs": [],
   "source": [
    "import sys"
   ]
  },
  {
   "cell_type": "code",
   "execution_count": 26,
   "id": "419ec136",
   "metadata": {},
   "outputs": [
    {
     "name": "stdout",
     "output_type": "stream",
     "text": [
      "Length: 0, Byte: 56\n",
      "Length: 1, Byte: 88\n",
      "Length: 2, Byte: 88\n",
      "Length: 3, Byte: 88\n",
      "Length: 4, Byte: 88\n",
      "Length: 5, Byte: 120\n",
      "Length: 6, Byte: 120\n",
      "Length: 7, Byte: 120\n",
      "Length: 8, Byte: 120\n",
      "Length: 9, Byte: 184\n",
      "Length: 10, Byte: 184\n",
      "Length: 11, Byte: 184\n",
      "Length: 12, Byte: 184\n",
      "Length: 13, Byte: 184\n",
      "Length: 14, Byte: 184\n",
      "Length: 15, Byte: 184\n",
      "Length: 16, Byte: 184\n",
      "Length: 17, Byte: 248\n",
      "Length: 18, Byte: 248\n",
      "Length: 19, Byte: 248\n",
      "Length: 20, Byte: 248\n",
      "Length: 21, Byte: 248\n",
      "Length: 22, Byte: 248\n",
      "Length: 23, Byte: 248\n",
      "Length: 24, Byte: 248\n",
      "Length: 25, Byte: 312\n",
      "Length: 26, Byte: 312\n",
      "Length: 27, Byte: 312\n",
      "Length: 28, Byte: 312\n",
      "Length: 29, Byte: 312\n"
     ]
    }
   ],
   "source": [
    "n = 30\n",
    "myDynamicArray = []\n",
    "\n",
    "for i in range(n):\n",
    "    \n",
    "    myLength = len(myDynamicArray)\n",
    "    myByte = sys.getsizeof(myDynamicArray)\n",
    "    print(f\"Length: {myLength}, Byte: {myByte}\")\n",
    "    myDynamicArray.append(n)\n",
    "    "
   ]
  },
  {
   "cell_type": "code",
   "execution_count": null,
   "id": "50edd8de",
   "metadata": {},
   "outputs": [],
   "source": []
  }
 ],
 "metadata": {
  "kernelspec": {
   "display_name": "Python 3 (ipykernel)",
   "language": "python",
   "name": "python3"
  },
  "language_info": {
   "codemirror_mode": {
    "name": "ipython",
    "version": 3
   },
   "file_extension": ".py",
   "mimetype": "text/x-python",
   "name": "python",
   "nbconvert_exporter": "python",
   "pygments_lexer": "ipython3",
   "version": "3.9.12"
  }
 },
 "nbformat": 4,
 "nbformat_minor": 5
}
